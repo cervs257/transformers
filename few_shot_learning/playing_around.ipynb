{
 "cells": [
  {
   "cell_type": "code",
   "execution_count": 12,
   "metadata": {},
   "outputs": [],
   "source": [
    "from scratch_transformer import MultiHeadAttentionBlock\n",
    "from data import create_weights, get_reg_data, get_nonlinear_data\n",
    "import numpy as np\n",
    "\n",
    "feature_size = 10\n",
    "output_size = 1\n",
    "M = 10\n",
    "N = 1000\n",
    "lr = 1e-4\n",
    "\n",
    "# linear attention params override\n",
    "la_params = create_weights(feature_size, output_size, N, lr)\n",
    "\n",
    "# get the data\n",
    "eval_data = get_reg_data(no_tasks=M, feature_size=feature_size, no_examples=N)\n",
    "\n",
    "\n",
    "# Create a MultiHeadAttentionBlock\n",
    "mha = MultiHeadAttentionBlock(\n",
    "    d_model=feature_size + 1, heads=1, dropout=0.0, softmax_att=False\n",
    ")  # (batch_size, seq_len, d_model)"
   ]
  },
  {
   "cell_type": "code",
   "execution_count": 13,
   "metadata": {},
   "outputs": [],
   "source": [
    "import torch\n",
    "\n",
    "\n",
    "# Now we will override the weights of the model to implement those that perform GD in the forward pass\n",
    "def override_weights(model, new_params, w_name):\n",
    "    w_name = \"Transformer_gd/multi_head_attention/\" + w_name\n",
    "    w_numpy = new_params[w_name][\"w\"]\n",
    "    w_tensor = torch.tensor(w_numpy, dtype=model.weight.dtype)\n",
    "    model.weight.data = w_tensor\n",
    "\n",
    "\n",
    "# Override the weights of the model\n",
    "override_weights(mha.w_q, la_params, \"query\")\n",
    "override_weights(mha.w_k, la_params, \"key\")\n",
    "override_weights(mha.w_v, la_params, \"value\")\n",
    "override_weights(mha.w_o, la_params, \"linear\")"
   ]
  },
  {
   "cell_type": "code",
   "execution_count": 14,
   "metadata": {},
   "outputs": [],
   "source": [
    "def compute_loss(preds, targets):\n",
    "    \"\"\"Compute the MSE loss.\"\"\"\n",
    "    return 0.5 * np.sum((targets - preds) ** 2) / targets.shape[0]"
   ]
  },
  {
   "cell_type": "code",
   "execution_count": 15,
   "metadata": {},
   "outputs": [],
   "source": [
    "e_eval = torch.tensor(eval_data[0]).float()\n",
    "\n",
    "# Forward pass\n",
    "out = mha(e_eval, e_eval, e_eval)\n",
    "\n",
    "# Compare the output to the targets\n",
    "eval_targets = eval_data[1][:, -1]\n",
    "eval_preds = out[:, -1, -1] * (-1.0)"
   ]
  },
  {
   "cell_type": "code",
   "execution_count": 16,
   "metadata": {},
   "outputs": [
    {
     "name": "stdout",
     "output_type": "stream",
     "text": [
      "Loss for M: 10, N: 1000 is 0.472.\n"
     ]
    }
   ],
   "source": [
    "loss = compute_loss(eval_preds.detach().numpy(), eval_targets)\n",
    "print(f\"Loss for M: {M}, N: {N} is {loss:.3f}.\")\n"
   ]
  },
  {
   "cell_type": "code",
   "execution_count": 17,
   "metadata": {},
   "outputs": [],
   "source": [
    "def train(\n",
    "    model, optimizer, criterion, eval_data=None, training_steps=1000, linear_data=False\n",
    "):\n",
    "    eval_losses = []\n",
    "    lowest_loss = 1e9\n",
    "\n",
    "    # Get the evaluation data if it is not provided\n",
    "    if eval_data is None:\n",
    "        if linear_data:\n",
    "            eval_data = get_reg_data(\n",
    "                no_tasks=M, feature_size=feature_size, no_examples=N\n",
    "            )\n",
    "        else:\n",
    "            eval_data = get_nonlinear_data(\n",
    "                no_tasks=M, feature_size=feature_size, no_examples=N\n",
    "            )\n",
    "    assert eval_data is not None, \"No evaluation data provided.\"\n",
    "    e_eval = torch.tensor(eval_data[0]).float()\n",
    "    eval_targets = eval_data[1][:, -1]\n",
    "    for step in range(training_steps):\n",
    "        # Generate train data\n",
    "        if linear_data:\n",
    "            train_data = get_reg_data(\n",
    "                no_tasks=M, feature_size=feature_size, no_examples=N\n",
    "            )\n",
    "        else:\n",
    "            train_data = get_nonlinear_data(\n",
    "                no_tasks=M, feature_size=feature_size, no_examples=N\n",
    "            )\n",
    "        e_train = torch.tensor(train_data[0]).float()\n",
    "        targets = train_data[1][:, -1]\n",
    "\n",
    "        # Forward pass\n",
    "        optimizer.zero_grad()\n",
    "        out = model(e_train, e_train, e_train)\n",
    "        preds = out[:, -1, -1] * (-1.0)\n",
    "        loss = criterion(preds, torch.tensor(targets).float())\n",
    "        loss.backward()\n",
    "        optimizer.step()\n",
    "\n",
    "        # Evaluate\n",
    "        if step % 100 == 0:\n",
    "            ev_preds = model(e_eval, e_eval, e_eval)\n",
    "            ev_preds = ev_preds[:, -1, -1] * (-1.0)\n",
    "            eval_loss = compute_loss(ev_preds.detach().numpy(), eval_targets)\n",
    "            eval_losses.append(eval_loss)\n",
    "            if eval_loss < lowest_loss:\n",
    "                lowest_loss = eval_loss\n",
    "                if linear_data:\n",
    "                    data_type = \"lin_data\"\n",
    "                else:\n",
    "                    data_type = \"nonlin_data\"\n",
    "                if model.softmax_att:\n",
    "                    att = \"softmax_attn\"\n",
    "                else:\n",
    "                    att = \"linear_attn\"\n",
    "                path = f\"models/{att}-{data_type}.pth\"\n",
    "                torch.save(model.state_dict(), path)\n",
    "            print(f\"Step {step}, Train Loss: {loss.item():.3f}\")\n",
    "            print(f\"Step {step}, Eval Loss: {eval_loss:.3f}\")\n"
   ]
  },
  {
   "cell_type": "code",
   "execution_count": 18,
   "metadata": {},
   "outputs": [
    {
     "name": "stdout",
     "output_type": "stream",
     "text": [
      "Step 0, Train Loss: 0.340\n",
      "Step 0, Eval Loss: 0.467\n",
      "Step 100, Train Loss: 0.344\n",
      "Step 100, Eval Loss: 0.288\n",
      "Step 200, Train Loss: 0.221\n",
      "Step 200, Eval Loss: 0.174\n",
      "Step 300, Train Loss: 0.262\n",
      "Step 300, Eval Loss: 0.100\n",
      "Step 400, Train Loss: 0.238\n",
      "Step 400, Eval Loss: 0.061\n",
      "Step 500, Train Loss: 0.220\n",
      "Step 500, Eval Loss: 0.040\n",
      "Step 600, Train Loss: 0.174\n",
      "Step 600, Eval Loss: 0.031\n",
      "Step 700, Train Loss: 0.121\n",
      "Step 700, Eval Loss: 0.025\n",
      "Step 800, Train Loss: 0.064\n",
      "Step 800, Eval Loss: 0.020\n",
      "Step 900, Train Loss: 0.140\n",
      "Step 900, Eval Loss: 0.018\n"
     ]
    }
   ],
   "source": [
    "# Now let's explore training the model\n",
    "import torch.optim as optim\n",
    "\n",
    "# Train\n",
    "optimizer = optim.Adam(mha.parameters(), lr=lr)\n",
    "criterion = torch.nn.MSELoss()\n",
    "\n",
    "training_steps = 1000\n",
    "\n",
    "train(\n",
    "    mha,\n",
    "    optimizer,\n",
    "    criterion,\n",
    "    eval_data=eval_data,\n",
    "    training_steps=training_steps,\n",
    "    linear_data=True,\n",
    ")\n"
   ]
  },
  {
   "cell_type": "code",
   "execution_count": 20,
   "metadata": {},
   "outputs": [
    {
     "name": "stdout",
     "output_type": "stream",
     "text": [
      "Loss pre override for M: 10, N: 1000 is 1919.709.\n",
      "Loss with GD weights for M: 10, N: 1000 is 0.252.\n"
     ]
    }
   ],
   "source": [
    "# Let's do the same but with non linear data\n",
    "eval_nl_data = get_nonlinear_data(no_tasks=M, feature_size=feature_size, no_examples=N)\n",
    "e_eval_nl = torch.tensor(eval_nl_data[0]).float()\n",
    "\n",
    "# Create a MultiHeadAttentionBlock\n",
    "mha_nl = MultiHeadAttentionBlock(\n",
    "    d_model=feature_size + 1, heads=1, dropout=0.0, softmax_att=False\n",
    ")  # (batch_size, seq_len, d_model)\n",
    "\n",
    "# Forward pass pre override\n",
    "out_nl = mha_nl(e_eval_nl, e_eval_nl, e_eval_nl)\n",
    "\n",
    "# Compare the output to the targets\n",
    "eval_nl_targets = eval_nl_data[1][:, -1]\n",
    "eval_nl_preds = out_nl[:, -1, -1] * (-1.0)\n",
    "\n",
    "loss_nl = compute_loss(eval_nl_preds.detach().numpy(), eval_nl_targets)\n",
    "print(f\"Loss pre override for M: {M}, N: {N} is {loss_nl:.3f}.\")\n",
    "\n",
    "# Override the weights of the model\n",
    "override_weights(mha_nl.w_q, la_params, \"query\")\n",
    "override_weights(mha_nl.w_k, la_params, \"key\")\n",
    "override_weights(mha_nl.w_v, la_params, \"value\")\n",
    "override_weights(mha_nl.w_o, la_params, \"linear\")\n",
    "\n",
    "# Forward pass\n",
    "out_nl = mha_nl(e_eval_nl, e_eval_nl, e_eval_nl)\n",
    "\n",
    "# Compare the output to the targets\n",
    "eval_nl_targets = eval_nl_data[1][:, -1]\n",
    "eval_nl_preds = out_nl[:, -1, -1] * (-1.0)\n",
    "\n",
    "loss_nl = compute_loss(eval_nl_preds.detach().numpy(), eval_nl_targets)\n",
    "print(f\"Loss with GD weights for M: {M}, N: {N} is {loss_nl:.3f}.\")\n"
   ]
  },
  {
   "cell_type": "code",
   "execution_count": 21,
   "metadata": {},
   "outputs": [
    {
     "name": "stdout",
     "output_type": "stream",
     "text": [
      "Step 0, Train Loss: 1.010\n",
      "Step 0, Eval Loss: 0.538\n",
      "Step 100, Train Loss: 1.512\n",
      "Step 100, Eval Loss: 0.203\n",
      "Step 200, Train Loss: 1.370\n",
      "Step 200, Eval Loss: 0.156\n",
      "Step 300, Train Loss: 1.028\n",
      "Step 300, Eval Loss: 0.468\n",
      "Step 400, Train Loss: 1.237\n",
      "Step 400, Eval Loss: 0.202\n",
      "Step 500, Train Loss: 0.446\n",
      "Step 500, Eval Loss: 0.317\n",
      "Step 600, Train Loss: 1.837\n",
      "Step 600, Eval Loss: 0.233\n",
      "Step 700, Train Loss: 0.529\n",
      "Step 700, Eval Loss: 0.172\n",
      "Step 800, Train Loss: 0.763\n",
      "Step 800, Eval Loss: 0.279\n",
      "Step 900, Train Loss: 0.646\n",
      "Step 900, Eval Loss: 0.177\n"
     ]
    }
   ],
   "source": [
    "optimizer = optim.Adam(mha_nl.parameters(), lr=lr)\n",
    "criterion = torch.nn.MSELoss()\n",
    "\n",
    "training_steps = 1000\n",
    "\n",
    "# Now let's explore training the model\n",
    "train(\n",
    "    mha_nl,\n",
    "    optimizer,\n",
    "    criterion,\n",
    "    eval_data=eval_nl_data,\n",
    "    training_steps=training_steps,\n",
    "    linear_data=False,\n",
    ")\n"
   ]
  },
  {
   "cell_type": "code",
   "execution_count": 27,
   "metadata": {},
   "outputs": [
    {
     "name": "stdout",
     "output_type": "stream",
     "text": [
      "Step 0, Train Loss: 1.029\n",
      "Step 0, Eval Loss: 0.473\n",
      "Step 100, Train Loss: 1.641\n",
      "Step 100, Eval Loss: 0.459\n",
      "Step 200, Train Loss: 0.993\n",
      "Step 200, Eval Loss: 0.449\n",
      "Step 300, Train Loss: 1.458\n",
      "Step 300, Eval Loss: 0.442\n",
      "Step 400, Train Loss: 0.446\n",
      "Step 400, Eval Loss: 0.438\n",
      "Step 500, Train Loss: 1.105\n",
      "Step 500, Eval Loss: 0.433\n",
      "Step 600, Train Loss: 1.011\n",
      "Step 600, Eval Loss: 0.430\n",
      "Step 700, Train Loss: 1.001\n",
      "Step 700, Eval Loss: 0.426\n",
      "Step 800, Train Loss: 0.972\n",
      "Step 800, Eval Loss: 0.422\n",
      "Step 900, Train Loss: 0.477\n",
      "Step 900, Eval Loss: 0.421\n"
     ]
    }
   ],
   "source": [
    "# Finally let's use softmax attention\n",
    "# Create a MultiHeadAttentionBlock\n",
    "mha_nl_sa = MultiHeadAttentionBlock(\n",
    "    d_model=feature_size + 1, heads=1, dropout=0.0, softmax_att=True\n",
    ")  # (batch_size, seq_len, d_model)\n",
    "\n",
    "optimizer = optim.Adam(mha_nl_sa.parameters(), lr=lr)\n",
    "criterion = torch.nn.MSELoss()\n",
    "\n",
    "training_steps = 1000\n",
    "\n",
    "# Training the model\n",
    "train(\n",
    "    mha_nl_sa,\n",
    "    optimizer,\n",
    "    criterion,\n",
    "    eval_data=None,\n",
    "    training_steps=training_steps,\n",
    "    linear_data=False,\n",
    ")\n"
   ]
  }
 ],
 "metadata": {
  "kernelspec": {
   "display_name": "base",
   "language": "python",
   "name": "python3"
  },
  "language_info": {
   "codemirror_mode": {
    "name": "ipython",
    "version": 3
   },
   "file_extension": ".py",
   "mimetype": "text/x-python",
   "name": "python",
   "nbconvert_exporter": "python",
   "pygments_lexer": "ipython3",
   "version": "3.10.12"
  }
 },
 "nbformat": 4,
 "nbformat_minor": 2
}
