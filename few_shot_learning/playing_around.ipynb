{
 "cells": [
  {
   "cell_type": "code",
   "execution_count": 3,
   "metadata": {},
   "outputs": [],
   "source": [
    "from scratch_transformer import MultiHeadAttentionBlock\n",
    "from data import create_weights, get_reg_data, get_nonlinear_data\n",
    "import numpy as np\n",
    "\n",
    "feature_size = 10\n",
    "output_size = 1\n",
    "M = 10\n",
    "N = 1000\n",
    "lr = 1e-4\n",
    "\n",
    "# linear attention params override\n",
    "la_params = create_weights(feature_size, output_size, N, lr)\n",
    "\n",
    "# get the data\n",
    "eval_data = get_reg_data(no_tasks=M, feature_size=feature_size, no_examples=N)\n",
    "\n",
    "\n",
    "# Create a MultiHeadAttentionBlock\n",
    "mha = MultiHeadAttentionBlock(\n",
    "    d_model=feature_size + 1, heads=1, dropout=0.0, softmax_att=False\n",
    ")  # (batch_size, seq_len, d_model)"
   ]
  },
  {
   "cell_type": "code",
   "execution_count": 4,
   "metadata": {},
   "outputs": [],
   "source": [
    "import torch\n",
    "\n",
    "\n",
    "# Now we will override the weights of the model to implement those that perform GD in the forward pass\n",
    "def override_weights(model, new_params, w_name):\n",
    "    w_name = \"Transformer_gd/multi_head_attention/\" + w_name\n",
    "    w_numpy = new_params[w_name][\"w\"]\n",
    "    w_tensor = torch.tensor(w_numpy, dtype=model.weight.dtype)\n",
    "    model.weight.data = w_tensor\n",
    "\n",
    "\n",
    "# Override the weights of the model\n",
    "override_weights(mha.w_q, la_params, \"query\")\n",
    "override_weights(mha.w_k, la_params, \"key\")\n",
    "override_weights(mha.w_v, la_params, \"value\")\n",
    "override_weights(mha.w_o, la_params, \"linear\")"
   ]
  },
  {
   "cell_type": "code",
   "execution_count": 5,
   "metadata": {},
   "outputs": [],
   "source": [
    "def compute_loss(preds, targets):\n",
    "    \"\"\"Compute the MSE loss.\"\"\"\n",
    "    return 0.5 * np.sum((targets - preds) ** 2) / targets.shape[0]"
   ]
  },
  {
   "cell_type": "code",
   "execution_count": 6,
   "metadata": {},
   "outputs": [],
   "source": [
    "e_eval = torch.tensor(eval_data[0]).float()\n",
    "\n",
    "# Forward pass\n",
    "out = mha(e_eval, e_eval, e_eval)\n",
    "\n",
    "# Compare the output to the targets\n",
    "eval_targets = eval_data[1][:, -1]\n",
    "eval_preds = out[:, -1, -1] * (-1.0)"
   ]
  },
  {
   "cell_type": "code",
   "execution_count": 7,
   "metadata": {},
   "outputs": [
    {
     "name": "stdout",
     "output_type": "stream",
     "text": [
      "Loss for M: 10, N: 1000 is 0.451.\n"
     ]
    }
   ],
   "source": [
    "loss = compute_loss(eval_preds.detach().numpy(), eval_targets)\n",
    "print(f\"Loss for M: {M}, N: {N} is {loss:.3f}.\")"
   ]
  },
  {
   "cell_type": "code",
   "execution_count": 19,
   "metadata": {},
   "outputs": [],
   "source": [
    "def train(\n",
    "    model, optimizer, criterion, eval_data=None, training_steps=1000, linear_data=False\n",
    "):\n",
    "    eval_losses = []\n",
    "    lowest_loss = 1e9\n",
    "\n",
    "    # Move the model to device\n",
    "    device = torch.device(\"cuda\" if torch.cuda.is_available() else \"cpu\")\n",
    "    model.to(device)\n",
    "    print(f\"Training on {device}.\")\n",
    "\n",
    "    # Get the evaluation data if it is not provided\n",
    "    if eval_data is None:\n",
    "        if linear_data:\n",
    "            eval_data = get_reg_data(\n",
    "                no_tasks=M, feature_size=feature_size, no_examples=N\n",
    "            )\n",
    "        else:\n",
    "            eval_data = get_nonlinear_data(\n",
    "                no_tasks=M, feature_size=feature_size, no_examples=N\n",
    "            )\n",
    "    assert eval_data is not None, \"No evaluation data provided.\"\n",
    "    e_eval = torch.tensor(eval_data[0]).float().to(device)\n",
    "    eval_targets = torch.tensor(eval_data[1][:, -1]).float().to(device)\n",
    "    for step in range(training_steps + 1):\n",
    "        # Generate train data\n",
    "        if linear_data:\n",
    "            train_data = get_reg_data(\n",
    "                no_tasks=M, feature_size=feature_size, no_examples=N\n",
    "            )\n",
    "        else:\n",
    "            train_data = get_nonlinear_data(\n",
    "                no_tasks=M, feature_size=feature_size, no_examples=N\n",
    "            )\n",
    "        e_train = torch.tensor(train_data[0]).float().to(device)\n",
    "        targets = torch.tensor(train_data[1][:, -1]).float().to(device)\n",
    "\n",
    "        # Forward pass\n",
    "        optimizer.zero_grad()\n",
    "        out = model(e_train, e_train, e_train)\n",
    "        preds = out[:, -1, -1] * (-1.0)\n",
    "        loss = criterion(preds, targets)\n",
    "        loss.backward()\n",
    "        optimizer.step()\n",
    "\n",
    "        # Evaluate\n",
    "        if step % 100 == 0:\n",
    "            model.eval()\n",
    "            with torch.no_grad():\n",
    "                ev_preds = model(e_eval, e_eval, e_eval)\n",
    "                ev_preds = ev_preds[:, -1, -1] * (-1.0)\n",
    "                eval_loss = criterion(ev_preds, eval_targets)\n",
    "                eval_losses.append(eval_loss)\n",
    "            model.train()\n",
    "            if eval_loss < lowest_loss:\n",
    "                lowest_loss = eval_loss\n",
    "                if linear_data:\n",
    "                    data_type = \"lin_data\"\n",
    "                else:\n",
    "                    data_type = \"nonlin_data\"\n",
    "                if model.softmax_att:\n",
    "                    att = \"softmax_attn\"\n",
    "                else:\n",
    "                    att = \"linear_attn\"\n",
    "                path = f\"models/{att}-{data_type}.pth\"\n",
    "                torch.save(model.state_dict(), path)\n",
    "            print(f\"Step {step}, Train Loss: {loss.item():.3f}\")\n",
    "            print(f\"Step {step}, Eval Loss: {eval_loss:.3f}\")"
   ]
  },
  {
   "cell_type": "code",
   "execution_count": 20,
   "metadata": {},
   "outputs": [
    {
     "name": "stdout",
     "output_type": "stream",
     "text": [
      "Training on cpu.\n",
      "Step 0, Train Loss: 0.010\n",
      "Step 0, Eval Loss: 0.004\n",
      "Step 100, Train Loss: 0.014\n",
      "Step 100, Eval Loss: 0.010\n",
      "Step 200, Train Loss: 0.011\n",
      "Step 200, Eval Loss: 0.003\n",
      "Step 300, Train Loss: 0.035\n",
      "Step 300, Eval Loss: 0.004\n",
      "Step 400, Train Loss: 0.013\n",
      "Step 400, Eval Loss: 0.007\n",
      "Step 500, Train Loss: 0.013\n",
      "Step 500, Eval Loss: 0.005\n",
      "Step 600, Train Loss: 0.004\n",
      "Step 600, Eval Loss: 0.007\n",
      "Step 700, Train Loss: 0.010\n",
      "Step 700, Eval Loss: 0.008\n",
      "Step 800, Train Loss: 0.007\n",
      "Step 800, Eval Loss: 0.007\n",
      "Step 900, Train Loss: 0.007\n",
      "Step 900, Eval Loss: 0.005\n",
      "Step 1000, Train Loss: 0.004\n",
      "Step 1000, Eval Loss: 0.007\n"
     ]
    }
   ],
   "source": [
    "# Now let's explore training the model\n",
    "import torch.optim as optim\n",
    "\n",
    "# Train\n",
    "optimizer = optim.Adam(mha.parameters(), lr=lr)\n",
    "criterion = torch.nn.MSELoss()\n",
    "\n",
    "training_steps = 1000\n",
    "\n",
    "train(\n",
    "    mha,\n",
    "    optimizer,\n",
    "    criterion,\n",
    "    eval_data=eval_data,\n",
    "    training_steps=training_steps,\n",
    "    linear_data=True,\n",
    ")"
   ]
  },
  {
   "cell_type": "code",
   "execution_count": 10,
   "metadata": {},
   "outputs": [
    {
     "name": "stdout",
     "output_type": "stream",
     "text": [
      "Loss pre override for M: 10, N: 1000 is 87812.519.\n",
      "Loss with GD weights for M: 10, N: 1000 is 0.362.\n"
     ]
    }
   ],
   "source": [
    "lr = 1e-3\n",
    "# Let's do the same but with non linear data\n",
    "eval_nl_data = get_nonlinear_data(no_tasks=M, feature_size=feature_size, no_examples=N)\n",
    "e_eval_nl = torch.tensor(eval_nl_data[0]).float()\n",
    "\n",
    "# Create a MultiHeadAttentionBlock\n",
    "mha_nl = MultiHeadAttentionBlock(\n",
    "    d_model=feature_size + 1, heads=1, dropout=0.0, softmax_att=False\n",
    ")  # (batch_size, seq_len, d_model)\n",
    "\n",
    "# Forward pass pre override\n",
    "out_nl = mha_nl(e_eval_nl, e_eval_nl, e_eval_nl)\n",
    "\n",
    "# Compare the output to the targets\n",
    "eval_nl_targets = eval_nl_data[1][:, -1]\n",
    "eval_nl_preds = out_nl[:, -1, -1] * (-1.0)\n",
    "\n",
    "loss_nl = compute_loss(eval_nl_preds.detach().numpy(), eval_nl_targets)\n",
    "print(f\"Loss pre override for M: {M}, N: {N} is {loss_nl:.3f}.\")\n",
    "\n",
    "# Override the weights of the model\n",
    "override_weights(mha_nl.w_q, la_params, \"query\")\n",
    "override_weights(mha_nl.w_k, la_params, \"key\")\n",
    "override_weights(mha_nl.w_v, la_params, \"value\")\n",
    "override_weights(mha_nl.w_o, la_params, \"linear\")\n",
    "\n",
    "# Forward pass\n",
    "out_nl = mha_nl(e_eval_nl, e_eval_nl, e_eval_nl)\n",
    "\n",
    "# Compare the output to the targets\n",
    "eval_nl_targets = eval_nl_data[1][:, -1]\n",
    "eval_nl_preds = out_nl[:, -1, -1] * (-1.0)\n",
    "\n",
    "loss_nl = compute_loss(eval_nl_preds.detach().numpy(), eval_nl_targets)\n",
    "print(f\"Loss with GD weights for M: {M}, N: {N} is {loss_nl:.3f}.\")\n"
   ]
  },
  {
   "cell_type": "code",
   "execution_count": 11,
   "metadata": {},
   "outputs": [
    {
     "name": "stdout",
     "output_type": "stream",
     "text": [
      "Training on cpu.\n",
      "Step 0, Train Loss: 1.269\n",
      "Step 0, Eval Loss: 16.046\n"
     ]
    },
    {
     "name": "stderr",
     "output_type": "stream",
     "text": [
      "C:\\Users\\cerva\\AppData\\Local\\Temp\\ipykernel_12500\\79054421.py:42: UserWarning: To copy construct from a tensor, it is recommended to use sourceTensor.clone().detach() or sourceTensor.clone().detach().requires_grad_(True), rather than torch.tensor(sourceTensor).\n",
      "  loss = criterion(preds, torch.tensor(targets).float())\n"
     ]
    },
    {
     "name": "stdout",
     "output_type": "stream",
     "text": [
      "Step 100, Train Loss: 2.086\n",
      "Step 100, Eval Loss: 0.401\n",
      "Step 200, Train Loss: 0.663\n",
      "Step 200, Eval Loss: 0.600\n",
      "Step 300, Train Loss: 1.940\n",
      "Step 300, Eval Loss: 0.473\n",
      "Step 400, Train Loss: 1.305\n",
      "Step 400, Eval Loss: 0.430\n",
      "Step 500, Train Loss: 0.967\n",
      "Step 500, Eval Loss: 0.409\n",
      "Step 600, Train Loss: 2.153\n",
      "Step 600, Eval Loss: 0.447\n",
      "Step 700, Train Loss: 1.745\n",
      "Step 700, Eval Loss: 0.455\n",
      "Step 800, Train Loss: 0.413\n",
      "Step 800, Eval Loss: 0.386\n",
      "Step 900, Train Loss: 0.676\n",
      "Step 900, Eval Loss: 0.465\n"
     ]
    }
   ],
   "source": [
    "optimizer = optim.Adam(mha_nl.parameters(), lr=lr)\n",
    "criterion = torch.nn.MSELoss()\n",
    "\n",
    "training_steps = 1000\n",
    "\n",
    "# Now let's explore training the model\n",
    "train(\n",
    "    mha_nl,\n",
    "    optimizer,\n",
    "    criterion,\n",
    "    eval_data=eval_nl_data,\n",
    "    training_steps=training_steps,\n",
    "    linear_data=False,\n",
    ")"
   ]
  },
  {
   "cell_type": "code",
   "execution_count": 15,
   "metadata": {},
   "outputs": [
    {
     "name": "stdout",
     "output_type": "stream",
     "text": [
      "Training on cpu.\n"
     ]
    },
    {
     "ename": "TypeError",
     "evalue": "'int' object is not callable",
     "output_type": "error",
     "traceback": [
      "\u001b[1;31m---------------------------------------------------------------------------\u001b[0m",
      "\u001b[1;31mTypeError\u001b[0m                                 Traceback (most recent call last)",
      "Cell \u001b[1;32mIn[15], line 13\u001b[0m\n\u001b[0;32m     10\u001b[0m training_steps \u001b[38;5;241m=\u001b[39m \u001b[38;5;241m1000\u001b[39m\n\u001b[0;32m     12\u001b[0m \u001b[38;5;66;03m# Training the model\u001b[39;00m\n\u001b[1;32m---> 13\u001b[0m \u001b[43mtrain\u001b[49m\u001b[43m(\u001b[49m\n\u001b[0;32m     14\u001b[0m \u001b[43m    \u001b[49m\u001b[43mmha_nl_sa\u001b[49m\u001b[43m,\u001b[49m\n\u001b[0;32m     15\u001b[0m \u001b[43m    \u001b[49m\u001b[43moptimizer\u001b[49m\u001b[43m,\u001b[49m\n\u001b[0;32m     16\u001b[0m \u001b[43m    \u001b[49m\u001b[43mcriterion\u001b[49m\u001b[43m,\u001b[49m\n\u001b[0;32m     17\u001b[0m \u001b[43m    \u001b[49m\u001b[43meval_data\u001b[49m\u001b[38;5;241;43m=\u001b[39;49m\u001b[38;5;28;43;01mNone\u001b[39;49;00m\u001b[43m,\u001b[49m\n\u001b[0;32m     18\u001b[0m \u001b[43m    \u001b[49m\u001b[43mtraining_steps\u001b[49m\u001b[38;5;241;43m=\u001b[39;49m\u001b[43mtraining_steps\u001b[49m\u001b[43m,\u001b[49m\n\u001b[0;32m     19\u001b[0m \u001b[43m    \u001b[49m\u001b[43mlinear_data\u001b[49m\u001b[38;5;241;43m=\u001b[39;49m\u001b[38;5;28;43;01mFalse\u001b[39;49;00m\u001b[43m,\u001b[49m\n\u001b[0;32m     20\u001b[0m \u001b[43m)\u001b[49m\n",
      "Cell \u001b[1;32mIn[14], line 51\u001b[0m, in \u001b[0;36mtrain\u001b[1;34m(model, optimizer, criterion, eval_data, training_steps, linear_data)\u001b[0m\n\u001b[0;32m     49\u001b[0m ev_preds \u001b[38;5;241m=\u001b[39m ev_preds[:, \u001b[38;5;241m-\u001b[39m\u001b[38;5;241m1\u001b[39m, \u001b[38;5;241m-\u001b[39m\u001b[38;5;241m1\u001b[39m] \u001b[38;5;241m*\u001b[39m (\u001b[38;5;241m-\u001b[39m\u001b[38;5;241m1.0\u001b[39m)\n\u001b[0;32m     50\u001b[0m \u001b[38;5;66;03m# eval_loss = compute_loss(ev_preds.detach().cpu().numpy(), eval_targets)\u001b[39;00m\n\u001b[1;32m---> 51\u001b[0m eval_loss \u001b[38;5;241m=\u001b[39m \u001b[43mcriterion\u001b[49m\u001b[43m(\u001b[49m\u001b[43mev_preds\u001b[49m\u001b[43m,\u001b[49m\u001b[43m \u001b[49m\u001b[43meval_targets\u001b[49m\u001b[43m)\u001b[49m\n\u001b[0;32m     52\u001b[0m eval_losses\u001b[38;5;241m.\u001b[39mappend(eval_loss)\n\u001b[0;32m     53\u001b[0m \u001b[38;5;28;01mif\u001b[39;00m eval_loss \u001b[38;5;241m<\u001b[39m lowest_loss:\n",
      "File \u001b[1;32mc:\\Users\\cerva\\miniconda3\\lib\\site-packages\\torch\\nn\\modules\\module.py:1511\u001b[0m, in \u001b[0;36mModule._wrapped_call_impl\u001b[1;34m(self, *args, **kwargs)\u001b[0m\n\u001b[0;32m   1509\u001b[0m     \u001b[38;5;28;01mreturn\u001b[39;00m \u001b[38;5;28mself\u001b[39m\u001b[38;5;241m.\u001b[39m_compiled_call_impl(\u001b[38;5;241m*\u001b[39margs, \u001b[38;5;241m*\u001b[39m\u001b[38;5;241m*\u001b[39mkwargs)  \u001b[38;5;66;03m# type: ignore[misc]\u001b[39;00m\n\u001b[0;32m   1510\u001b[0m \u001b[38;5;28;01melse\u001b[39;00m:\n\u001b[1;32m-> 1511\u001b[0m     \u001b[38;5;28;01mreturn\u001b[39;00m \u001b[38;5;28mself\u001b[39m\u001b[38;5;241m.\u001b[39m_call_impl(\u001b[38;5;241m*\u001b[39margs, \u001b[38;5;241m*\u001b[39m\u001b[38;5;241m*\u001b[39mkwargs)\n",
      "File \u001b[1;32mc:\\Users\\cerva\\miniconda3\\lib\\site-packages\\torch\\nn\\modules\\module.py:1520\u001b[0m, in \u001b[0;36mModule._call_impl\u001b[1;34m(self, *args, **kwargs)\u001b[0m\n\u001b[0;32m   1515\u001b[0m \u001b[38;5;66;03m# If we don't have any hooks, we want to skip the rest of the logic in\u001b[39;00m\n\u001b[0;32m   1516\u001b[0m \u001b[38;5;66;03m# this function, and just call forward.\u001b[39;00m\n\u001b[0;32m   1517\u001b[0m \u001b[38;5;28;01mif\u001b[39;00m \u001b[38;5;129;01mnot\u001b[39;00m (\u001b[38;5;28mself\u001b[39m\u001b[38;5;241m.\u001b[39m_backward_hooks \u001b[38;5;129;01mor\u001b[39;00m \u001b[38;5;28mself\u001b[39m\u001b[38;5;241m.\u001b[39m_backward_pre_hooks \u001b[38;5;129;01mor\u001b[39;00m \u001b[38;5;28mself\u001b[39m\u001b[38;5;241m.\u001b[39m_forward_hooks \u001b[38;5;129;01mor\u001b[39;00m \u001b[38;5;28mself\u001b[39m\u001b[38;5;241m.\u001b[39m_forward_pre_hooks\n\u001b[0;32m   1518\u001b[0m         \u001b[38;5;129;01mor\u001b[39;00m _global_backward_pre_hooks \u001b[38;5;129;01mor\u001b[39;00m _global_backward_hooks\n\u001b[0;32m   1519\u001b[0m         \u001b[38;5;129;01mor\u001b[39;00m _global_forward_hooks \u001b[38;5;129;01mor\u001b[39;00m _global_forward_pre_hooks):\n\u001b[1;32m-> 1520\u001b[0m     \u001b[38;5;28;01mreturn\u001b[39;00m forward_call(\u001b[38;5;241m*\u001b[39margs, \u001b[38;5;241m*\u001b[39m\u001b[38;5;241m*\u001b[39mkwargs)\n\u001b[0;32m   1522\u001b[0m \u001b[38;5;28;01mtry\u001b[39;00m:\n\u001b[0;32m   1523\u001b[0m     result \u001b[38;5;241m=\u001b[39m \u001b[38;5;28;01mNone\u001b[39;00m\n",
      "File \u001b[1;32mc:\\Users\\cerva\\miniconda3\\lib\\site-packages\\torch\\nn\\modules\\loss.py:535\u001b[0m, in \u001b[0;36mMSELoss.forward\u001b[1;34m(self, input, target)\u001b[0m\n\u001b[0;32m    534\u001b[0m \u001b[38;5;28;01mdef\u001b[39;00m \u001b[38;5;21mforward\u001b[39m(\u001b[38;5;28mself\u001b[39m, \u001b[38;5;28minput\u001b[39m: Tensor, target: Tensor) \u001b[38;5;241m-\u001b[39m\u001b[38;5;241m>\u001b[39m Tensor:\n\u001b[1;32m--> 535\u001b[0m     \u001b[38;5;28;01mreturn\u001b[39;00m \u001b[43mF\u001b[49m\u001b[38;5;241;43m.\u001b[39;49m\u001b[43mmse_loss\u001b[49m\u001b[43m(\u001b[49m\u001b[38;5;28;43minput\u001b[39;49m\u001b[43m,\u001b[49m\u001b[43m \u001b[49m\u001b[43mtarget\u001b[49m\u001b[43m,\u001b[49m\u001b[43m \u001b[49m\u001b[43mreduction\u001b[49m\u001b[38;5;241;43m=\u001b[39;49m\u001b[38;5;28;43mself\u001b[39;49m\u001b[38;5;241;43m.\u001b[39;49m\u001b[43mreduction\u001b[49m\u001b[43m)\u001b[49m\n",
      "File \u001b[1;32mc:\\Users\\cerva\\miniconda3\\lib\\site-packages\\torch\\nn\\functional.py:3328\u001b[0m, in \u001b[0;36mmse_loss\u001b[1;34m(input, target, size_average, reduce, reduction)\u001b[0m\n\u001b[0;32m   3324\u001b[0m \u001b[38;5;28;01mif\u001b[39;00m has_torch_function_variadic(\u001b[38;5;28minput\u001b[39m, target):\n\u001b[0;32m   3325\u001b[0m     \u001b[38;5;28;01mreturn\u001b[39;00m handle_torch_function(\n\u001b[0;32m   3326\u001b[0m         mse_loss, (\u001b[38;5;28minput\u001b[39m, target), \u001b[38;5;28minput\u001b[39m, target, size_average\u001b[38;5;241m=\u001b[39msize_average, reduce\u001b[38;5;241m=\u001b[39mreduce, reduction\u001b[38;5;241m=\u001b[39mreduction\n\u001b[0;32m   3327\u001b[0m     )\n\u001b[1;32m-> 3328\u001b[0m \u001b[38;5;28;01mif\u001b[39;00m \u001b[38;5;129;01mnot\u001b[39;00m (\u001b[43mtarget\u001b[49m\u001b[38;5;241;43m.\u001b[39;49m\u001b[43msize\u001b[49m\u001b[43m(\u001b[49m\u001b[43m)\u001b[49m \u001b[38;5;241m==\u001b[39m \u001b[38;5;28minput\u001b[39m\u001b[38;5;241m.\u001b[39msize()):\n\u001b[0;32m   3329\u001b[0m     warnings\u001b[38;5;241m.\u001b[39mwarn(\n\u001b[0;32m   3330\u001b[0m         \u001b[38;5;124mf\u001b[39m\u001b[38;5;124m\"\u001b[39m\u001b[38;5;124mUsing a target size (\u001b[39m\u001b[38;5;132;01m{\u001b[39;00mtarget\u001b[38;5;241m.\u001b[39msize()\u001b[38;5;132;01m}\u001b[39;00m\u001b[38;5;124m) that is different to the input size (\u001b[39m\u001b[38;5;132;01m{\u001b[39;00m\u001b[38;5;28minput\u001b[39m\u001b[38;5;241m.\u001b[39msize()\u001b[38;5;132;01m}\u001b[39;00m\u001b[38;5;124m). \u001b[39m\u001b[38;5;124m\"\u001b[39m\n\u001b[0;32m   3331\u001b[0m         \u001b[38;5;124m\"\u001b[39m\u001b[38;5;124mThis will likely lead to incorrect results due to broadcasting. \u001b[39m\u001b[38;5;124m\"\u001b[39m\n\u001b[0;32m   3332\u001b[0m         \u001b[38;5;124m\"\u001b[39m\u001b[38;5;124mPlease ensure they have the same size.\u001b[39m\u001b[38;5;124m\"\u001b[39m,\n\u001b[0;32m   3333\u001b[0m         stacklevel\u001b[38;5;241m=\u001b[39m\u001b[38;5;241m2\u001b[39m,\n\u001b[0;32m   3334\u001b[0m     )\n\u001b[0;32m   3335\u001b[0m \u001b[38;5;28;01mif\u001b[39;00m size_average \u001b[38;5;129;01mis\u001b[39;00m \u001b[38;5;129;01mnot\u001b[39;00m \u001b[38;5;28;01mNone\u001b[39;00m \u001b[38;5;129;01mor\u001b[39;00m reduce \u001b[38;5;129;01mis\u001b[39;00m \u001b[38;5;129;01mnot\u001b[39;00m \u001b[38;5;28;01mNone\u001b[39;00m:\n",
      "\u001b[1;31mTypeError\u001b[0m: 'int' object is not callable"
     ]
    }
   ],
   "source": [
    "# Finally let's use softmax attention\n",
    "# Create a MultiHeadAttentionBlock\n",
    "mha_nl_sa = MultiHeadAttentionBlock(\n",
    "    d_model=feature_size + 1, heads=1, dropout=0.0, softmax_att=True\n",
    ")  # (batch_size, seq_len, d_model)\n",
    "\n",
    "optimizer = optim.Adam(mha_nl_sa.parameters(), lr=lr)\n",
    "criterion = torch.nn.MSELoss()\n",
    "\n",
    "training_steps = 1000\n",
    "\n",
    "# Training the model\n",
    "train(\n",
    "    mha_nl_sa,\n",
    "    optimizer,\n",
    "    criterion,\n",
    "    eval_data=None,\n",
    "    training_steps=training_steps,\n",
    "    linear_data=False,\n",
    ")"
   ]
  }
 ],
 "metadata": {
  "kernelspec": {
   "display_name": "base",
   "language": "python",
   "name": "python3"
  },
  "language_info": {
   "codemirror_mode": {
    "name": "ipython",
    "version": 3
   },
   "file_extension": ".py",
   "mimetype": "text/x-python",
   "name": "python",
   "nbconvert_exporter": "python",
   "pygments_lexer": "ipython3",
   "version": "3.10.12"
  }
 },
 "nbformat": 4,
 "nbformat_minor": 2
}
